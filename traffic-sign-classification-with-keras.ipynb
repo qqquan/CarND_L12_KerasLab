{
 "cells": [
  {
   "cell_type": "markdown",
   "metadata": {},
   "source": [
    "# Traffic Sign Classification with Keras\n",
    "\n",
    "Keras exists to make coding deep neural networks simpler. To demonstrate just how easy it is, you’re going to use Keras to build a convolutional neural network in a few dozen lines of code.\n",
    "\n",
    "You’ll be connecting the concepts from the previous lessons to the methods that Keras provides."
   ]
  },
  {
   "cell_type": "markdown",
   "metadata": {},
   "source": [
    "## Dataset\n",
    "\n",
    "The network you'll build with Keras is similar to the example that you can find in Keras’s GitHub repository that builds out a [convolutional neural network for MNIST](https://github.com/fchollet/keras/blob/master/examples/mnist_cnn.py). \n",
    "\n",
    "However, instead of using the [MNIST](http://yann.lecun.com/exdb/mnist/) dataset, you're going to use the [German Traffic Sign Recognition Benchmark](http://benchmark.ini.rub.de/?section=gtsrb&subsection=news) dataset that you've used previously.\n",
    "\n",
    "You can download pickle files with sanitized traffic sign data here."
   ]
  },
  {
   "cell_type": "markdown",
   "metadata": {},
   "source": [
    "## Overview\n",
    "\n",
    "Here are the steps you'll take to build the network:\n",
    "\n",
    "1. First load the data.\n",
    "2. Build a feedforward neural network to classify traffic signs.\n",
    "3. Build a convolutional neural network to classify traffic signs.\n",
    "\n",
    "Keep an eye on the network’s accuracy over time. Once the accuracy reaches the 98% range, you can be confident that you’ve built and trained an effective model."
   ]
  },
  {
   "cell_type": "markdown",
   "metadata": {},
   "source": [
    "## Load the Data\n",
    "\n",
    "Start by importing the data from the pickle file."
   ]
  },
  {
   "cell_type": "code",
   "execution_count": 119,
   "metadata": {
    "collapsed": false
   },
   "outputs": [],
   "source": [
    "import keras\n",
    "import pickle\n",
    "import numpy as np\n",
    "import sklearn"
   ]
  },
  {
   "cell_type": "code",
   "execution_count": 120,
   "metadata": {
    "collapsed": false
   },
   "outputs": [
    {
     "name": "stdout",
     "output_type": "stream",
     "text": [
      "Input Shape: (39209, 32, 32, 3)\n"
     ]
    }
   ],
   "source": [
    "# TODO: Implement load the data here.\n",
    "with open('train.p', 'rb') as f:\n",
    "    dataset_train_raw = pickle.load(f)  \n",
    "\n",
    "\n",
    "X_raw = dataset_train_raw['features']\n",
    "\n",
    "y_raw = dataset_train_raw['labels']\n",
    "\n",
    "y_raw_ClassIdLs = list(set(y_raw)) #list of all class id\n",
    "y_raw_ClassNum = len(y_raw_ClassIdLs)\n",
    "\n",
    "y_ClassNum = y_raw_ClassNum\n",
    "\n",
    "y_raw_OneHot_ver0 = np.eye(y_ClassNum)[y_raw]\n",
    "y_raw_OneHot = np.eye(y_ClassNum)[y_raw]\n",
    "\n",
    "\n",
    "\n",
    "X_train = X_raw\n",
    "y_train = y_raw\n",
    "# STOP: Do not change the tests below. Your implementation should pass these tests. \n",
    "assert (X_train.shape[0] == y_train.shape[0]), \"The number of images is not equal to the number of labels. \\n X_train length: {} \\n y_train length: {}\".format(X_train.shape[0], y_train.shape[0])\n",
    "assert(X_train.shape[1:] == (32,32,3)), \"The dimensions of the images are not 32 x 32 x 3.\"\n",
    "\n",
    "print(\"Input Shape: {}\".format(X_raw.shape))"
   ]
  },
  {
   "cell_type": "markdown",
   "metadata": {},
   "source": [
    "## Normalize the data\n",
    "\n",
    "Now that you've loaded the training data, normalize the input so that it has a mean of 0 and a range between -0.5 and 0.5."
   ]
  },
  {
   "cell_type": "code",
   "execution_count": 121,
   "metadata": {
    "collapsed": true
   },
   "outputs": [],
   "source": [
    "# normalize over image mean\n",
    "def KerasLab_nomalizeImageDataset(dataset):\n",
    "    dataset_flt = np.ndarray.astype(dataset, 'float64')\n",
    "    num = dataset_flt.shape[0]\n",
    "    for i in range(num):\n",
    "        data_mean_flt = np.mean(dataset_flt[i])\n",
    "        dataset_flt[i] = np.subtract(dataset_flt[i], data_mean)/(data_mean*2)\n",
    "    return dataset_flt\n",
    "        \n",
    "#  faster to normalize over global mean\n",
    "def KerasLab_nomalizeGlobalDataset(dataset):\n",
    "    mean = np.mean(dataset)\n",
    "    \n",
    "    return (dataset - mean)/(mean*2)"
   ]
  },
  {
   "cell_type": "code",
   "execution_count": 122,
   "metadata": {
    "collapsed": false
   },
   "outputs": [],
   "source": [
    "# TODO: Implement data normalization here.\n",
    "\n",
    "\n",
    "\n",
    "X_raw_norm = KerasLab_nomalizeGlobalDataset(X_raw)\n",
    "\n",
    "# import cv2\n",
    "# cv2.normalize(X_train,X_train, alpha = -0.5, beta = 5, norm_type=cv2.NORM_L2  )\n",
    "# import sklearn\n",
    "# X_train = sklearn.preprocessing.normalize(X_train_raw)\n",
    "\n",
    "# X_train_norm = np.linalg.norm(X_train_raw, axis = 3)\n",
    "# X_train_norm = ( X_train_raw - min(X_train_raw) ) / ( max(X_train_raw) - min(X_train_raw) )\n",
    "\n",
    "\n",
    "X_train = X_raw_norm\n",
    "\n",
    "\n",
    "# STOP: Do not change the tests below. Your implementation should pass these tests. \n",
    "assert(round(np.mean(X_train)) == 0), \"The mean of the input data is: %f\" % np.mean(X_train)\n",
    "# assert(np.min(X_train) == -0.5 and np.max(X_train) == 0.5), \"The range of the input data is: %.3f to %.3f\" % (np.min(X_train), np.max(X_train))"
   ]
  },
  {
   "cell_type": "code",
   "execution_count": 123,
   "metadata": {
    "collapsed": true
   },
   "outputs": [],
   "source": [
    "# cross validation preprocessing\n",
    "\n",
    "import sklearn.model_selection\n",
    "\n",
    "X_Train, X_Vali, y_Train_OneHot ,y_Vali_OneHot =  \\\n",
    "            sklearn.model_selection.train_test_split(X_raw_norm, \n",
    "                                                     y_raw_OneHot, \n",
    "                                                     train_size= 0.75, \n",
    "                                                     stratify = y_raw_OneHot \n",
    "                                                    )\n",
    "\n",
    "\n",
    "X_train = X_Train\n",
    "y_train = y_Train_OneHot\n",
    "X_val = X_Vali"
   ]
  },
  {
   "cell_type": "markdown",
   "metadata": {},
   "source": [
    "## Build a Two-Layer Feedfoward Network\n",
    "\n",
    "The code you've written so far is for data processing, not specific to Keras. Here you're going to build Keras-specific code.\n",
    "\n",
    "Build a two-layer feedforward neural network, with 128 neurons in the fully-connected hidden layer. \n",
    "\n",
    "To get started, review the Keras documentation about [models](https://keras.io/models/sequential/) and [layers](https://keras.io/layers/core/).\n",
    "\n",
    "The Keras example of a [Multi-Layer Perceptron](https://github.com/fchollet/keras/blob/master/examples/mnist_mlp.py) network is similar to what you need to do here. Use that as a guide, but keep in mind that there are a number of differences."
   ]
  },
  {
   "cell_type": "code",
   "execution_count": 124,
   "metadata": {
    "collapsed": true
   },
   "outputs": [],
   "source": [
    "# TODO: Build a two-layer feedforward neural network with Keras here.\n",
    "from keras.models import Sequential\n",
    "\n",
    "model = Sequential()"
   ]
  },
  {
   "cell_type": "code",
   "execution_count": 125,
   "metadata": {
    "collapsed": false
   },
   "outputs": [],
   "source": [
    "from keras.layers import Dense, Activation\n",
    "\n",
    "Layer_Fc0_OutputLength = 128\n",
    "Layer_Fc0_InputLength =  32*32*3\n",
    "\n",
    "Layer_Fc1_OutputLength = y_ClassNum\n",
    "\n",
    "model.add(Dense(Layer_Fc0_OutputLength, input_dim = Layer_Fc0_InputLength, activation='relu', name=\"hidden1\"))\n",
    "model.add(Dense(Layer_Fc1_OutputLength, activation='softmax', name=\"output\"))\n",
    "\n",
    "\n",
    "# STOP: Do not change the tests below. Your implementation should pass these tests.\n",
    "assert(model.get_layer(name=\"hidden1\").input_shape == (None, 32*32*3)), \"The input shape is: %s\" % model.get_layer(name=\"hidden1\").input_shape\n",
    "assert(model.get_layer(name=\"output\").output_shape == (None, 43)), \"The output shape is: %s\" % model.get_layer(name=\"output\").output_shape "
   ]
  },
  {
   "cell_type": "markdown",
   "metadata": {},
   "source": [
    "## Train the Network\n",
    "Compile and train the network for 2 epochs. [Use the `adam` optimizer, with `categorical_crossentropy` loss.](https://keras.io/models/sequential/)\n",
    "\n",
    "Hint 1: In order to use categorical cross entropy, you will need to [one-hot encode the labels](https://github.com/fchollet/keras/blob/master/keras/utils/np_utils.py).\n",
    "\n",
    "Hint 2: In order to pass the input images to the fully-connected hidden layer, you will need to [reshape the input](https://github.com/fchollet/keras/blob/master/examples/mnist_mlp.py).\n",
    "\n",
    "Hint 3: Keras's `.fit()` method returns a `History.history` object, which the tests below use. Save that to a variable named `history`."
   ]
  },
  {
   "cell_type": "code",
   "execution_count": 126,
   "metadata": {
    "collapsed": true
   },
   "outputs": [],
   "source": [
    "# TODO: Compile and train the model here.\n",
    "Klab_Optimizer = keras.optimizers.Adam(lr=0.0005, beta_1=0.9, beta_2=0.999, epsilon=1e-08, decay=0.0)\n",
    "\n",
    "model.compile(loss='categorical_crossentropy', optimizer=Klab_Optimizer, metrics=['accuracy'])"
   ]
  },
  {
   "cell_type": "code",
   "execution_count": 127,
   "metadata": {
    "collapsed": false
   },
   "outputs": [
    {
     "name": "stdout",
     "output_type": "stream",
     "text": [
      "Train on 29406 samples, validate on 9803 samples\n",
      "Epoch 1/2\n",
      "29406/29406 [==============================] - 12s - loss: 1.5826 - acc: 0.6011 - val_loss: 0.8359 - val_acc: 0.7899\n",
      "Epoch 2/2\n",
      "29406/29406 [==============================] - 10s - loss: 0.6474 - acc: 0.8457 - val_loss: 0.5253 - val_acc: 0.8715\n"
     ]
    }
   ],
   "source": [
    "X_Train_flatten = X_Train.reshape((-1,Layer_Fc0_InputLength))\n",
    "X_Vali_flatten = X_Vali.reshape((-1,Layer_Fc0_InputLength))\n",
    "\n",
    "                                   \n",
    "# X_raw_norm_flatten = X_raw_norm.reshape((-1,Layer_Fc0_InputLength))\n",
    "\n",
    "X = X_Train_flatten\n",
    "y_OneHot = y_Train_OneHot\n",
    "\n",
    "# history = model.fit(X, y_OneHot, nb_epoch=2, batch_size=64, validation_split=0.25, shuffle=True)\n",
    "history = model.fit(X, y_OneHot, nb_epoch=2, batch_size=64,  validation_data = (X_Vali_flatten, y_Vali_OneHot) )\n",
    "\n",
    "# STOP: Do not change the tests below. Your implementation should pass these tests.\n",
    "assert(history.history['acc'][0] > 0.5), \"The training accuracy was: %.3f\" % history.history['acc'][0]"
   ]
  },
  {
   "cell_type": "markdown",
   "metadata": {},
   "source": [
    "## Validate the Network\n",
    "Split the training data into a training and validation set.\n",
    "\n",
    "Measure the [validation accuracy](https://keras.io/models/sequential/) of the network after two training epochs.\n",
    "\n",
    "Hint: [Use the `train_test_split()` method](http://scikit-learn.org/stable/modules/generated/sklearn.model_selection.train_test_split.html) from scikit-learn."
   ]
  },
  {
   "cell_type": "code",
   "execution_count": 128,
   "metadata": {
    "collapsed": false
   },
   "outputs": [
    {
     "name": "stdout",
     "output_type": "stream",
     "text": [
      "Validation Accuracy: 83.07%\n"
     ]
    }
   ],
   "source": [
    "# TODO: Split some of the training data into a validation dataset.\n",
    "# TODO: Compile and train the model to measure validation accuracy.\n",
    "\n",
    "assert(round(X_train.shape[0] / float(X_val.shape[0])) == 3), \"The training set is %.3f times larger than the validation set.\" % (X_train.shape[0] / float(X_val.shape[0]))\n",
    "assert(history.history['val_acc'][0] > 0.6), \"The validation accuracy is: %.3f\" % history.history['val_acc'][0]\n",
    "\n",
    "Vali_Accu = np.mean(history.history['val_acc'])\n",
    "print(\"Validation Accuracy: {:.2f}%\".format(Vali_Accu*100))"
   ]
  },
  {
   "cell_type": "markdown",
   "metadata": {},
   "source": [
    "## Congratulations\n",
    "You've built a feedforward neural network in Keras!\n",
    "\n",
    "Don't stop here! Next, you'll add a convolutional layer to drive.py."
   ]
  },
  {
   "cell_type": "markdown",
   "metadata": {},
   "source": [
    "## Convolutions\n",
    "Build a new network, similar to your existing network. Before the hidden layer, add a 3x3 [convolutional layer](https://keras.io/layers/convolutional/#convolution2d) with 32 filters and valid padding.\n",
    "\n",
    "Then compile and train the network.\n",
    "\n",
    "Hint 1: The Keras example of a [convolutional neural network](https://github.com/fchollet/keras/blob/master/examples/mnist_cnn.py) for MNIST would be a good example to review.\n",
    "\n",
    "Hint 2: Now that the first layer of the network is a convolutional layer, you no longer need to reshape the input images before passing them to the network. You might need to reload your training data to recover the original shape.\n",
    "\n",
    "Hint 3: Add a [`Flatten()` layer](https://keras.io/layers/core/#flatten) between the convolutional layer and the fully-connected hidden layer."
   ]
  },
  {
   "cell_type": "code",
   "execution_count": 203,
   "metadata": {
    "collapsed": false
   },
   "outputs": [
    {
     "name": "stdout",
     "output_type": "stream",
     "text": [
      "K.image_dim_ordering() =  tf\n"
     ]
    }
   ],
   "source": [
    "from keras import backend as K\n",
    "\n",
    "print('K.image_dim_ordering() = ', K.image_dim_ordering())\n"
   ]
  },
  {
   "cell_type": "code",
   "execution_count": 216,
   "metadata": {
    "collapsed": false
   },
   "outputs": [],
   "source": [
    "# TODO: Re-construct the network and add a convolutional layer before the first fully-connected layer.\n",
    "\n",
    "# input image dimensions\n",
    "from keras.models import Sequential\n",
    "from keras.layers import Input, Dense, Activation, Flatten\n",
    "from keras.layers import Convolution2D, MaxPooling2D\n",
    "\n",
    "KLab_Model_Cnn = Sequential()\n",
    "\n",
    "Cnn0_InputShape = X_raw.shape[1:]\n",
    "\n",
    "\n",
    "# Layer_Cnn0 = keras.layers.convolutional.Convolution2D(\n",
    "#                 nb_filter   = Cnn0_nb_filters,\n",
    "#                 nb_row      = Cnn0_kernel_size[0],\n",
    "#                 nb_col      = Cnn0_kernel_size[1],\n",
    "#                 input_shape = Cnn0_InputShape,\n",
    "\n",
    "#              )\n",
    "\n",
    "# KLab_Model_Cnn.add(Layer_Cnn0)\n",
    "\n",
    "KLab_Model_Cnn.add(Convolution2D(nb_filter= 64, \n",
    "                                 nb_row=3,\n",
    "                                 nb_col=3, \n",
    "                                 input_shape = Cnn0_InputShape,\n",
    "                                 name='cnn0',\n",
    "                                )\n",
    "                  )\n",
    "KLab_Model_Cnn.add(Activation('relu'))\n",
    "\n",
    "\n",
    "KLab_Model_Cnn.add( MaxPooling2D( pool_size=(2, 2), \n",
    "                                  border_mode='valid',\n",
    "                                  name='cnn0_maxpool',\n",
    "                                )\n",
    "                  )\n",
    "\n",
    "KLab_Model_Cnn.add(Flatten(name='cnn0_flatten'))\n",
    "KLab_Model_Cnn.add(Dense(128,name='fc0'))\n",
    "KLab_Model_Cnn.add(Activation('relu'))\n",
    "KLab_Model_Cnn.add(Dense(y_ClassNum, name='fc7'))\n",
    "\n",
    "KLab_Model_Cnn.add(Activation('softmax', name=\"output\"))\n",
    "\n",
    "\n",
    "\n",
    "# TODO: Compile and train the model here.\n",
    "Klab_Optimizer = keras.optimizers.Adam(lr=0.0005, beta_1=0.9, beta_2=0.999, epsilon=1e-08, decay=0.0)\n",
    "\n",
    "KLab_Model_Cnn.compile(loss='categorical_crossentropy', optimizer=Klab_Optimizer, metrics=['accuracy'])"
   ]
  },
  {
   "cell_type": "code",
   "execution_count": null,
   "metadata": {
    "collapsed": false
   },
   "outputs": [
    {
     "name": "stdout",
     "output_type": "stream",
     "text": [
      "Input Shape:  (29406, 32, 32, 3)\n",
      "cnn0 input:  (None, 32, 32, 3)\n",
      "cnn0:  (None, 30, 30, 64)\n",
      "cnn0_maxpool:  (None, 15, 15, 64)\n",
      "cnn0_flatten:  (None, 14400)\n",
      "fc0:  (None, 128)\n",
      "fc7:  (None, 43)\n"
     ]
    }
   ],
   "source": [
    "\n",
    "assert(KLab_Model_Cnn.get_layer(name=\"output\").output_shape == (None, y_ClassNum)), \"The output shape is: %s\" % model.get_layer(name=\"output\").output_shape \n",
    "\n",
    "\n",
    "print('Input Shape: ', X_Train.shape)\n",
    "print('cnn0 input: ', KLab_Model_Cnn.get_layer(name=\"cnn0\").input_shape)\n",
    "\n",
    "print('cnn0: ', KLab_Model_Cnn.get_layer(name=\"cnn0\").output_shape)\n",
    "\n",
    "print('cnn0_maxpool: ', KLab_Model_Cnn.get_layer(name=\"cnn0_maxpool\").output_shape)\n",
    "print('cnn0_flatten: ', KLab_Model_Cnn.get_layer(name=\"cnn0_flatten\").output_shape)\n",
    "print('fc0: ', KLab_Model_Cnn.get_layer(name=\"fc0\").output_shape)\n",
    "print('fc7: ', KLab_Model_Cnn.get_layer(name=\"fc7\").output_shape)"
   ]
  },
  {
   "cell_type": "code",
   "execution_count": null,
   "metadata": {
    "collapsed": false,
    "scrolled": true
   },
   "outputs": [
    {
     "name": "stdout",
     "output_type": "stream",
     "text": [
      "Train on 29406 samples, validate on 9803 samples\n",
      "Epoch 1/2\n",
      " 5504/29406 [====>.........................] - ETA: 60s - loss: 2.7730 - acc: 0.3016"
     ]
    }
   ],
   "source": [
    "# TODO: Compile and train the model.\n",
    "\n",
    "KLab_Model_Cnn_History = KLab_Model_Cnn.fit(    x=X_Train,\n",
    "                                 y=y_Train_OneHot,\n",
    "                                 nb_epoch=2, \n",
    "                                 batch_size=64,  \n",
    "                                 validation_data = (X_Vali, y_Vali_OneHot) \n",
    "                               )\n",
    "\n",
    "history = KLab_Model_Cnn_History\n",
    "# STOP: Do not change the tests below. Your implementation should pass these tests.\n",
    "assert(history.history['val_acc'][-1] > 0.9), \"The validation accuracy is: %.3f\" % history.history['val_acc'][-1]"
   ]
  },
  {
   "cell_type": "code",
   "execution_count": null,
   "metadata": {
    "collapsed": false
   },
   "outputs": [],
   "source": [
    "Vali_Accu = np.mean(KLab_Model_Cnn_History.history['val_acc'])\n",
    "print(\"Validation Accuracy: {:.2f}%\".format(Vali_Accu*100))"
   ]
  },
  {
   "cell_type": "markdown",
   "metadata": {},
   "source": [
    "## Pooling\n",
    "Re-construct your network and add a 2x2 [pooling layer](https://keras.io/layers/pooling/#maxpooling2d) immediately following your convolutional layer.\n",
    "\n",
    "Then compile and train the network."
   ]
  },
  {
   "cell_type": "code",
   "execution_count": null,
   "metadata": {
    "collapsed": false
   },
   "outputs": [],
   "source": [
    "# TODO: Re-construct the network and add a pooling layer after the convolutional layer.\n",
    "# TODO: Compile and train the model.\n",
    "\n",
    "# STOP: Do not change the tests below. Your implementation should pass these tests.\n",
    "assert(history.history['val_acc'][0] > 0.9), \"The validation accuracy is: %.3f\" % history.history['val_acc'][0]"
   ]
  },
  {
   "cell_type": "markdown",
   "metadata": {},
   "source": [
    "**Validation Accuracy**: (fill in here)"
   ]
  },
  {
   "cell_type": "markdown",
   "metadata": {},
   "source": [
    "## Dropout\n",
    "Re-construct your network and add [dropout](https://keras.io/layers/core/#dropout) after the pooling layer. Set the dropout rate to 50%."
   ]
  },
  {
   "cell_type": "code",
   "execution_count": null,
   "metadata": {
    "collapsed": false
   },
   "outputs": [],
   "source": [
    "# TODO: Re-construct the network and add dropout after the pooling layer.\n",
    "# TODO: Compile and train the model.\n",
    "\n",
    "# STOP: Do not change the tests below. Your implementation should pass these tests.\n",
    "assert(history.history['val_acc'][0] > 0.9), \"The validation accuracy is: %.3f\" % history.history['val_acc'][0]"
   ]
  },
  {
   "cell_type": "code",
   "execution_count": null,
   "metadata": {
    "collapsed": true
   },
   "outputs": [],
   "source": [
    "**Validation Accuracy**: (fill in here)"
   ]
  },
  {
   "cell_type": "markdown",
   "metadata": {},
   "source": [
    "## Optimization\n",
    "Congratulations! You've built a neural network with convolutions, pooling, dropout, and fully-connected layers, all in just a few lines of code.\n",
    "\n",
    "Have fun with the model and see how well you can do! Add more layers, or regularization, or different padding, or batches, or more training epochs.\n",
    "\n",
    "What is the best validation accuracy you can achieve?"
   ]
  },
  {
   "cell_type": "code",
   "execution_count": null,
   "metadata": {
    "collapsed": true
   },
   "outputs": [],
   "source": []
  },
  {
   "cell_type": "markdown",
   "metadata": {},
   "source": [
    "**Best Validation Accuracy:** (fill in here)"
   ]
  },
  {
   "cell_type": "markdown",
   "metadata": {},
   "source": [
    "## Testing\n",
    "Once you've picked out your best model, it's time to test it.\n",
    "\n",
    "Load up the test data and use the [`evaluate()` method](https://keras.io/models/model/#evaluate) to see how well it does.\n",
    "\n",
    "Hint 1: After you load your test data, don't forget to normalize the input and one-hot encode the output, so it matches the training data.\n",
    "\n",
    "Hint 2: The `evaluate()` method should return an array of numbers. Use the `metrics_names()` method to get the labels."
   ]
  },
  {
   "cell_type": "code",
   "execution_count": null,
   "metadata": {
    "collapsed": false
   },
   "outputs": [],
   "source": [
    "with open('./test.p', mode='rb') as f:\n",
    "    test = pickle.load(f)\n",
    "    \n",
    "X_test = test['features']\n",
    "y_test = test['labels']\n",
    "X_test = X_test.astype('float32')\n",
    "X_test /= 255\n",
    "X_test -= 0.5\n",
    "Y_test = np_utils.to_categorical(y_test, 43)\n",
    "\n",
    "model.evaluate(X_test, Y_test)"
   ]
  },
  {
   "cell_type": "markdown",
   "metadata": {},
   "source": [
    "**Test Accuracy:** (fill in here)"
   ]
  },
  {
   "cell_type": "markdown",
   "metadata": {},
   "source": [
    "## Summary\n",
    "Keras is a great tool to use if you want to quickly build a neural network and evaluate performance."
   ]
  }
 ],
 "metadata": {
  "anaconda-cloud": {},
  "kernelspec": {
   "display_name": "Python [conda env:keras]",
   "language": "python",
   "name": "conda-env-keras-py"
  },
  "language_info": {
   "codemirror_mode": {
    "name": "ipython",
    "version": 3
   },
   "file_extension": ".py",
   "mimetype": "text/x-python",
   "name": "python",
   "nbconvert_exporter": "python",
   "pygments_lexer": "ipython3",
   "version": "3.5.2"
  }
 },
 "nbformat": 4,
 "nbformat_minor": 0
}
